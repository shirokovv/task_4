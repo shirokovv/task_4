{
 "cells": [
  {
   "cell_type": "markdown",
   "id": "0120ce42-57ab-4bf5-bfad-fde7e7a82d6a",
   "metadata": {},
   "source": [
    "## Импортируем необходимые библиотеки"
   ]
  },
  {
   "cell_type": "code",
   "execution_count": 1,
   "id": "5848fea8-b990-448d-af20-9b98451a1fd0",
   "metadata": {},
   "outputs": [],
   "source": [
    "import re"
   ]
  },
  {
   "cell_type": "markdown",
   "id": "533641aa-43ee-439a-aec0-7bd7fe1835ee",
   "metadata": {},
   "source": [
    "## Определяем нашу функцию"
   ]
  },
  {
   "cell_type": "code",
   "execution_count": 24,
   "id": "90423ca4-1010-4a46-920d-a288294ee4e7",
   "metadata": {},
   "outputs": [],
   "source": [
    "def rus_1 (string_list):\n",
    "    farray = [] # создаем пустой список\n",
    "    r = re.compile(\"[а-яА-Я]\") # выбираем паттерны регулярки, в данном случае - русские буквы (строчные и прописные)\n",
    "    for string in string_list: # идем по списку строк\n",
    "        rletters = []\n",
    "        rletters = [l for l in filter(r.match, string)] # записываем в созданный в предыдущей строке список русские буквы\n",
    "        if len(rletters) >= 2: # считаем его длину\n",
    "            farray.append(string) # создаем списсок строк, удовлетворяющих нашему условию\n",
    "    return farray"
   ]
  },
  {
   "cell_type": "markdown",
   "id": "3ef04e94-0b9f-4b48-8066-1984f9b7d9a5",
   "metadata": {},
   "source": [
    "##### В задании не очень понятно, какого все-таки вида у нас данные, при написании этой функции я предположил, что наши данные - список значений string, поскольку список в Python по сути тот же массив (только одномерный)\n",
    "\n",
    "##### При этом, данная функция может работать также и с одномерными массивами Pandas (pd.array) и другими видами массивов. Кроме того, способ выделения необходимых строк может быть другим, ниже я приведу еще один вариант выполнения задания"
   ]
  },
  {
   "cell_type": "markdown",
   "id": "5361c704-a7f8-487d-8abb-bb926a5e2c55",
   "metadata": {},
   "source": [
    "## Такая функция должна работать немного быстрее, если в строке много кириллических букв"
   ]
  },
  {
   "cell_type": "code",
   "execution_count": 29,
   "id": "d2865374-32cb-4456-a34e-7e23ac14ad7c",
   "metadata": {},
   "outputs": [],
   "source": [
    "def rus_2 (string_list):\n",
    "    farray = [] # создаем пустой список\n",
    "    r = re.compile(\"[а-я]\") # выбираем паттерны регулярки, в данном случае - русские буквы (только строчные)\n",
    "    for string in string_list: # идем по списку строк\n",
    "        rletters = []\n",
    "        for l in filter(r.match, string.lower()): # регулярками ищем буквы в строках только со строчными буквами\n",
    "            rletters.append(l) # записываем в созданный в предыдущей строке список русские буквы\n",
    "            if len(rletters) == 2:\n",
    "                farray.append(string) # добавляем строку в список строк с русскими буквами, когда нашли хотя бы две русские буквы\n",
    "                break\n",
    "    return farray"
   ]
  },
  {
   "cell_type": "markdown",
   "id": "e661cd51-44da-41e3-b011-5045405a236b",
   "metadata": {},
   "source": [
    "##### Также вывод из обеих функций можно сделать другой, например, если нужен массив Pandas, просто дописать pd.array(farray) при return функции"
   ]
  },
  {
   "cell_type": "markdown",
   "id": "da3ee9f3-9420-457a-969c-e3b95e170e60",
   "metadata": {},
   "source": [
    "## Пример вызова функции"
   ]
  },
  {
   "cell_type": "code",
   "execution_count": 31,
   "id": "7b0cf55d-929b-42ef-ae9b-05c83d1d00c6",
   "metadata": {},
   "outputs": [
    {
     "data": {
      "text/plain": [
       "['dfjвлао', 'wojfvро9450824)(', 'IHIГОРДKHЛОИKJBKJBРлои', 'аkfjbeиу']"
      ]
     },
     "execution_count": 31,
     "metadata": {},
     "output_type": "execute_result"
    }
   ],
   "source": [
    "rus_1(['dkfjbv', 'dfjвлао', 'wojfvро9450824)(', 'IHIГОРДKHЛОИKJBKJBРлои', 'аkfjbeиу', '03842ksjdfb'])"
   ]
  }
 ],
 "metadata": {
  "kernelspec": {
   "display_name": "Python 3 (ipykernel)",
   "language": "python",
   "name": "python3"
  },
  "language_info": {
   "codemirror_mode": {
    "name": "ipython",
    "version": 3
   },
   "file_extension": ".py",
   "mimetype": "text/x-python",
   "name": "python",
   "nbconvert_exporter": "python",
   "pygments_lexer": "ipython3",
   "version": "3.8.2"
  }
 },
 "nbformat": 4,
 "nbformat_minor": 5
}
